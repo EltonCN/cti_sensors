{
 "metadata": {
  "language_info": {
   "codemirror_mode": {
    "name": "ipython",
    "version": 3
   },
   "file_extension": ".py",
   "mimetype": "text/x-python",
   "name": "python",
   "nbconvert_exporter": "python",
   "pygments_lexer": "ipython3",
   "version": "3.8.6-final"
  },
  "orig_nbformat": 2,
  "kernelspec": {
   "name": "python3",
   "display_name": "Python 3.8.6 64-bit",
   "metadata": {
    "interpreter": {
     "hash": "7f1d78dde0226b69bc798671fb8e2d498c28a0f856c0cb763fe1abc36cf67161"
    }
   }
  }
 },
 "nbformat": 4,
 "nbformat_minor": 2,
 "cells": [
  {
   "cell_type": "code",
   "execution_count": 42,
   "metadata": {},
   "outputs": [],
   "source": [
    "import numpy as np\n",
    "from numpy import array, float32\n",
    "from scipy.linalg import ldl"
   ]
  },
  {
   "cell_type": "code",
   "execution_count": 8,
   "metadata": {},
   "outputs": [],
   "source": [
    "cov = [[0.00630649,0.00631449,0.00631449,0.00596759,0.006031,  0.006031, ],\n",
    " [0.00631449,0.00630649,0.00631449,0.006031,  0.00596759, 0.006031  ],\n",
    " [0.00631449, 0.00631449, 0.00630649, 0.006031,   0.006031,   0.00596759],\n",
    " [0.00596759, 0.006031,   0.006031,   0.00700918, 0.00601316, 0.00601316],\n",
    " [0.006031,   0.00596759, 0.006031,   0.00601316, 0.00700918, 0.00601316],\n",
    " [0.006031,   0.006031,   0.00596759, 0.00601316, 0.00601316, 0.00700918]]\n"
   ]
  },
  {
   "cell_type": "code",
   "execution_count": 48,
   "metadata": {},
   "outputs": [
    {
     "output_type": "execute_result",
     "data": {
      "text/plain": [
       "array([ 3.70151444e-02, -1.19888816e-05,  9.55825628e-04,  1.00000888e-03,\n",
       "       -1.19888816e-05,  1.00000888e-03])"
      ]
     },
     "metadata": {},
     "execution_count": 48
    }
   ],
   "source": [
    "np.linalg.eigvals(cov)"
   ]
  },
  {
   "cell_type": "code",
   "execution_count": 18,
   "metadata": {},
   "outputs": [
    {
     "output_type": "execute_result",
     "data": {
      "text/plain": [
       "(array([[ 1.        ,  0.        ,  0.        ,  0.        ,  0.        ,\n",
       "          0.        ],\n",
       "        [ 1.00126853,  1.        ,  0.        ,  0.        ,  0.        ,\n",
       "          0.        ],\n",
       "        [ 1.00126853,  0.50031693,  1.        ,  0.        ,  0.        ,\n",
       "          0.        ],\n",
       "        [ 0.94626171, -3.48778196, -2.32469679,  1.        ,  0.        ,\n",
       "          0.        ],\n",
       "        [ 0.95631643,  4.43846804, -2.32469679,  0.07600734,  1.        ,\n",
       "          0.        ],\n",
       "        [ 0.95631643,  0.47785513,  5.60155321,  0.07600734,  0.07063831,\n",
       "          1.        ]]),\n",
       " array([[ 6.30649000e-03,  0.00000000e+00,  0.00000000e+00,\n",
       "          0.00000000e+00,  0.00000000e+00,  0.00000000e+00],\n",
       "        [ 0.00000000e+00, -1.60101483e-05,  0.00000000e+00,\n",
       "          0.00000000e+00,  0.00000000e+00,  0.00000000e+00],\n",
       "        [ 0.00000000e+00,  0.00000000e+00, -1.20025355e-05,\n",
       "          0.00000000e+00,  0.00000000e+00,  0.00000000e+00],\n",
       "        [ 0.00000000e+00,  0.00000000e+00,  0.00000000e+00,\n",
       "          1.62189980e-03,  0.00000000e+00,  0.00000000e+00],\n",
       "        [ 0.00000000e+00,  0.00000000e+00,  0.00000000e+00,\n",
       "          0.00000000e+00,  1.61252989e-03,  0.00000000e+00],\n",
       "        [ 0.00000000e+00,  0.00000000e+00,  0.00000000e+00,\n",
       "          0.00000000e+00,  0.00000000e+00,  1.60448374e-03]]),\n",
       " array([0, 1, 2, 3, 4, 5], dtype=int64))"
      ]
     },
     "metadata": {},
     "execution_count": 18
    }
   ],
   "source": [
    "ldl(cov)"
   ]
  },
  {
   "cell_type": "code",
   "execution_count": 20,
   "metadata": {},
   "outputs": [
    {
     "output_type": "execute_result",
     "data": {
      "text/plain": [
       "array([[0.001, 0.   , 0.   , 0.   , 0.   , 0.   ],\n",
       "       [0.   , 0.001, 0.   , 0.   , 0.   , 0.   ],\n",
       "       [0.   , 0.   , 0.001, 0.   , 0.   , 0.   ],\n",
       "       [0.   , 0.   , 0.   , 0.001, 0.   , 0.   ],\n",
       "       [0.   , 0.   , 0.   , 0.   , 0.001, 0.   ],\n",
       "       [0.   , 0.   , 0.   , 0.   , 0.   , 0.001]], dtype=float32)"
      ]
     },
     "metadata": {},
     "execution_count": 20
    }
   ],
   "source": [
    "cov2 = np.eye(6,dtype=np.float32) * 0.001\n",
    "\n",
    "cov2"
   ]
  },
  {
   "cell_type": "code",
   "execution_count": 21,
   "metadata": {},
   "outputs": [
    {
     "output_type": "execute_result",
     "data": {
      "text/plain": [
       "array([[0.03162278, 0.        , 0.        , 0.        , 0.        ,\n",
       "        0.        ],\n",
       "       [0.        , 0.03162278, 0.        , 0.        , 0.        ,\n",
       "        0.        ],\n",
       "       [0.        , 0.        , 0.03162278, 0.        , 0.        ,\n",
       "        0.        ],\n",
       "       [0.        , 0.        , 0.        , 0.03162278, 0.        ,\n",
       "        0.        ],\n",
       "       [0.        , 0.        , 0.        , 0.        , 0.03162278,\n",
       "        0.        ],\n",
       "       [0.        , 0.        , 0.        , 0.        , 0.        ,\n",
       "        0.03162278]], dtype=float32)"
      ]
     },
     "metadata": {},
     "execution_count": 21
    }
   ],
   "source": [
    "np.linalg.cholesky(cov2)"
   ]
  },
  {
   "cell_type": "code",
   "execution_count": 23,
   "metadata": {},
   "outputs": [],
   "source": [
    "L, D, _ = ldl(cov2)"
   ]
  },
  {
   "cell_type": "code",
   "execution_count": 26,
   "metadata": {},
   "outputs": [
    {
     "output_type": "execute_result",
     "data": {
      "text/plain": [
       "array([[0.03162278, 0.        , 0.        , 0.        , 0.        ,\n",
       "        0.        ],\n",
       "       [0.        , 0.03162278, 0.        , 0.        , 0.        ,\n",
       "        0.        ],\n",
       "       [0.        , 0.        , 0.03162278, 0.        , 0.        ,\n",
       "        0.        ],\n",
       "       [0.        , 0.        , 0.        , 0.03162278, 0.        ,\n",
       "        0.        ],\n",
       "       [0.        , 0.        , 0.        , 0.        , 0.03162278,\n",
       "        0.        ],\n",
       "       [0.        , 0.        , 0.        , 0.        , 0.        ,\n",
       "        0.03162278]], dtype=float32)"
      ]
     },
     "metadata": {},
     "execution_count": 26
    }
   ],
   "source": [
    "L@np.power(D,0.5)"
   ]
  },
  {
   "cell_type": "code",
   "execution_count": 32,
   "metadata": {},
   "outputs": [
    {
     "output_type": "error",
     "ename": "LinAlgError",
     "evalue": "Matrix is not positive definite",
     "traceback": [
      "\u001b[1;31m---------------------------------------------------------------------------\u001b[0m",
      "\u001b[1;31mLinAlgError\u001b[0m                               Traceback (most recent call last)",
      "\u001b[1;32m<ipython-input-32-cf2ee03cde94>\u001b[0m in \u001b[0;36m<module>\u001b[1;34m\u001b[0m\n\u001b[0;32m      1\u001b[0m \u001b[0mprocessNoise\u001b[0m \u001b[1;33m=\u001b[0m \u001b[0mnp\u001b[0m\u001b[1;33m.\u001b[0m\u001b[0meye\u001b[0m\u001b[1;33m(\u001b[0m\u001b[1;36m6\u001b[0m\u001b[1;33m,\u001b[0m\u001b[0mdtype\u001b[0m\u001b[1;33m=\u001b[0m\u001b[0mnp\u001b[0m\u001b[1;33m.\u001b[0m\u001b[0mfloat32\u001b[0m\u001b[1;33m)\u001b[0m\u001b[1;33m*\u001b[0m\u001b[1;36m0.001\u001b[0m\u001b[1;33m\u001b[0m\u001b[1;33m\u001b[0m\u001b[0m\n\u001b[0;32m      2\u001b[0m \u001b[1;33m\u001b[0m\u001b[0m\n\u001b[1;32m----> 3\u001b[1;33m np.linalg.cholesky(\n\u001b[0m\u001b[0;32m      4\u001b[0m cov-processNoise)\n",
      "\u001b[1;32m<__array_function__ internals>\u001b[0m in \u001b[0;36mcholesky\u001b[1;34m(*args, **kwargs)\u001b[0m\n",
      "\u001b[1;32m~\\AppData\\Local\\Packages\\PythonSoftwareFoundation.Python.3.8_qbz5n2kfra8p0\\LocalCache\\local-packages\\Python38\\site-packages\\numpy\\linalg\\linalg.py\u001b[0m in \u001b[0;36mcholesky\u001b[1;34m(a)\u001b[0m\n\u001b[0;32m    753\u001b[0m     \u001b[0mt\u001b[0m\u001b[1;33m,\u001b[0m \u001b[0mresult_t\u001b[0m \u001b[1;33m=\u001b[0m \u001b[0m_commonType\u001b[0m\u001b[1;33m(\u001b[0m\u001b[0ma\u001b[0m\u001b[1;33m)\u001b[0m\u001b[1;33m\u001b[0m\u001b[1;33m\u001b[0m\u001b[0m\n\u001b[0;32m    754\u001b[0m     \u001b[0msignature\u001b[0m \u001b[1;33m=\u001b[0m \u001b[1;34m'D->D'\u001b[0m \u001b[1;32mif\u001b[0m \u001b[0misComplexType\u001b[0m\u001b[1;33m(\u001b[0m\u001b[0mt\u001b[0m\u001b[1;33m)\u001b[0m \u001b[1;32melse\u001b[0m \u001b[1;34m'd->d'\u001b[0m\u001b[1;33m\u001b[0m\u001b[1;33m\u001b[0m\u001b[0m\n\u001b[1;32m--> 755\u001b[1;33m     \u001b[0mr\u001b[0m \u001b[1;33m=\u001b[0m \u001b[0mgufunc\u001b[0m\u001b[1;33m(\u001b[0m\u001b[0ma\u001b[0m\u001b[1;33m,\u001b[0m \u001b[0msignature\u001b[0m\u001b[1;33m=\u001b[0m\u001b[0msignature\u001b[0m\u001b[1;33m,\u001b[0m \u001b[0mextobj\u001b[0m\u001b[1;33m=\u001b[0m\u001b[0mextobj\u001b[0m\u001b[1;33m)\u001b[0m\u001b[1;33m\u001b[0m\u001b[1;33m\u001b[0m\u001b[0m\n\u001b[0m\u001b[0;32m    756\u001b[0m     \u001b[1;32mreturn\u001b[0m \u001b[0mwrap\u001b[0m\u001b[1;33m(\u001b[0m\u001b[0mr\u001b[0m\u001b[1;33m.\u001b[0m\u001b[0mastype\u001b[0m\u001b[1;33m(\u001b[0m\u001b[0mresult_t\u001b[0m\u001b[1;33m,\u001b[0m \u001b[0mcopy\u001b[0m\u001b[1;33m=\u001b[0m\u001b[1;32mFalse\u001b[0m\u001b[1;33m)\u001b[0m\u001b[1;33m)\u001b[0m\u001b[1;33m\u001b[0m\u001b[1;33m\u001b[0m\u001b[0m\n\u001b[0;32m    757\u001b[0m \u001b[1;33m\u001b[0m\u001b[0m\n",
      "\u001b[1;32m~\\AppData\\Local\\Packages\\PythonSoftwareFoundation.Python.3.8_qbz5n2kfra8p0\\LocalCache\\local-packages\\Python38\\site-packages\\numpy\\linalg\\linalg.py\u001b[0m in \u001b[0;36m_raise_linalgerror_nonposdef\u001b[1;34m(err, flag)\u001b[0m\n\u001b[0;32m     98\u001b[0m \u001b[1;33m\u001b[0m\u001b[0m\n\u001b[0;32m     99\u001b[0m \u001b[1;32mdef\u001b[0m \u001b[0m_raise_linalgerror_nonposdef\u001b[0m\u001b[1;33m(\u001b[0m\u001b[0merr\u001b[0m\u001b[1;33m,\u001b[0m \u001b[0mflag\u001b[0m\u001b[1;33m)\u001b[0m\u001b[1;33m:\u001b[0m\u001b[1;33m\u001b[0m\u001b[1;33m\u001b[0m\u001b[0m\n\u001b[1;32m--> 100\u001b[1;33m     \u001b[1;32mraise\u001b[0m \u001b[0mLinAlgError\u001b[0m\u001b[1;33m(\u001b[0m\u001b[1;34m\"Matrix is not positive definite\"\u001b[0m\u001b[1;33m)\u001b[0m\u001b[1;33m\u001b[0m\u001b[1;33m\u001b[0m\u001b[0m\n\u001b[0m\u001b[0;32m    101\u001b[0m \u001b[1;33m\u001b[0m\u001b[0m\n\u001b[0;32m    102\u001b[0m \u001b[1;32mdef\u001b[0m \u001b[0m_raise_linalgerror_eigenvalues_nonconvergence\u001b[0m\u001b[1;33m(\u001b[0m\u001b[0merr\u001b[0m\u001b[1;33m,\u001b[0m \u001b[0mflag\u001b[0m\u001b[1;33m)\u001b[0m\u001b[1;33m:\u001b[0m\u001b[1;33m\u001b[0m\u001b[1;33m\u001b[0m\u001b[0m\n",
      "\u001b[1;31mLinAlgError\u001b[0m: Matrix is not positive definite"
     ]
    }
   ],
   "source": [
    "processNoise = np.eye(6,dtype=np.float32)*0.001\n",
    "\n",
    "np.linalg.cholesky(\n",
    "cov-processNoise)"
   ]
  },
  {
   "cell_type": "code",
   "execution_count": 37,
   "metadata": {},
   "outputs": [],
   "source": [
    "kalmanGain = np.array([[ 0.7021133 , -0.3010409 , -0.3010409 ],\n",
    "       [-0.3010409 ,  0.7021133 , -0.3010409 ],\n",
    "       [-0.3010409 , -0.3010409 ,  0.7021133 ],\n",
    "       [ 0.03930594, -0.01685297, -0.01685297],\n",
    "       [-0.01685297,  0.03930594, -0.01685297],\n",
    "       [-0.01685297, -0.01685297,  0.03930594]], dtype=np.float32)\n",
    "predictedMeasureCov = np.array([[0.00400946, 0.00300946, 0.00300946],\n",
    "       [0.00300946, 0.00400946, 0.00300946],\n",
    "       [0.00300946, 0.00300946, 0.00400946]], dtype=np.float32)\n",
    "result = np.array([[ 7.0432783e-04, -3.0199040e-04, -3.0199034e-04,  3.9429917e-05,\n",
    "        -1.6906128e-05, -1.6906126e-05],\n",
    "       [-3.0199040e-04,  7.0432783e-04, -3.0199034e-04, -1.6906128e-05,\n",
    "         3.9429917e-05, -1.6906126e-05],\n",
    "       [-3.0199034e-04, -3.0199034e-04,  7.0432777e-04, -1.6906124e-05,\n",
    "        -1.6906124e-05,  3.9429913e-05],\n",
    "       [ 3.9429917e-05, -1.6906126e-05, -1.6906130e-05,  2.2073789e-06,\n",
    "        -9.4644435e-07, -9.4644457e-07],\n",
    "       [-1.6906126e-05,  3.9429917e-05, -1.6906130e-05, -9.4644435e-07,\n",
    "         2.2073789e-06, -9.4644457e-07],\n",
    "       [-1.6906128e-05, -1.6906128e-05,  3.9429917e-05, -9.4644446e-07,\n",
    "        -9.4644446e-07,  2.2073789e-06]], dtype=np.float32)"
   ]
  },
  {
   "cell_type": "code",
   "execution_count": 39,
   "metadata": {},
   "outputs": [
    {
     "output_type": "execute_result",
     "data": {
      "text/plain": [
       "array([[ 7.0432783e-04, -3.0199040e-04, -3.0199045e-04,  3.9429917e-05,\n",
       "        -1.6906126e-05, -1.6906130e-05],\n",
       "       [-3.0199040e-04,  7.0432783e-04, -3.0199045e-04, -1.6906126e-05,\n",
       "         3.9429917e-05, -1.6906130e-05],\n",
       "       [-3.0199043e-04, -3.0199043e-04,  7.0432789e-04, -1.6906128e-05,\n",
       "        -1.6906128e-05,  3.9429920e-05],\n",
       "       [ 3.9429920e-05, -1.6906130e-05, -1.6906130e-05,  2.2073789e-06,\n",
       "        -9.4644446e-07, -9.4644446e-07],\n",
       "       [-1.6906130e-05,  3.9429920e-05, -1.6906130e-05, -9.4644446e-07,\n",
       "         2.2073789e-06, -9.4644446e-07],\n",
       "       [-1.6906130e-05, -1.6906130e-05,  3.9429924e-05, -9.4644446e-07,\n",
       "        -9.4644446e-07,  2.2073791e-06]], dtype=float32)"
      ]
     },
     "metadata": {},
     "execution_count": 39
    }
   ],
   "source": [
    "kalmanGain@predictedMeasureCov@kalmanGain.T"
   ]
  },
  {
   "cell_type": "code",
   "execution_count": 41,
   "metadata": {},
   "outputs": [
    {
     "output_type": "stream",
     "name": "stdout",
     "text": [
      "[[ 0.7021133  -0.3010409  -0.3010409 ]\n [-0.3010409   0.7021133  -0.3010409 ]\n [-0.3010409  -0.3010409   0.7021133 ]\n [ 0.03930594 -0.01685297 -0.01685297]\n [-0.01685297  0.03930594 -0.01685297]\n [-0.01685297 -0.01685297  0.03930594]]\n[[ 0.7021133  -0.3010409  -0.3010409   0.03930594 -0.01685297 -0.01685297]\n [-0.3010409   0.7021133  -0.3010409  -0.01685297  0.03930594 -0.01685297]\n [-0.3010409  -0.3010409   0.7021133  -0.01685297 -0.01685297  0.03930594]]\n"
     ]
    }
   ],
   "source": [
    "print(kalmanGain)\n",
    "print(kalmanGain.T)"
   ]
  },
  {
   "cell_type": "code",
   "execution_count": 43,
   "metadata": {},
   "outputs": [],
   "source": [
    "predCov = array([[0.00701233, 0.00601233, 0.00601233, 0.00601233, 0.00601233,\n",
    "        0.00601233],\n",
    "       [0.00601233, 0.00701233, 0.00601233, 0.00601233, 0.00601233,\n",
    "        0.00601233],\n",
    "       [0.00601233, 0.00601233, 0.00701233, 0.00601233, 0.00601233,\n",
    "        0.00601233],\n",
    "       [0.00601233, 0.00601233, 0.00601233, 0.00701233, 0.00601233,\n",
    "        0.00601233],\n",
    "       [0.00601233, 0.00601233, 0.00601233, 0.00601233, 0.00701233,\n",
    "        0.00601233],\n",
    "       [0.00601233, 0.00601233, 0.00601233, 0.00601233, 0.00601233,\n",
    "        0.00701233]], dtype=float32)"
   ]
  },
  {
   "cell_type": "code",
   "execution_count": 46,
   "metadata": {},
   "outputs": [
    {
     "output_type": "execute_result",
     "data": {
      "text/plain": [
       "array([[ 1.51239742e-06, -1.69975897e-07, -1.69975897e-07,\n",
       "         5.30996222e-06, -1.76386958e-06, -1.76386958e-06],\n",
       "       [-1.69975897e-07,  1.51239742e-06, -1.69975897e-07,\n",
       "        -1.76386958e-06,  5.30996222e-06, -1.76386958e-06],\n",
       "       [-1.69975897e-07, -1.69975897e-07,  1.51239742e-06,\n",
       "        -1.76386958e-06, -1.76386958e-06,  5.30996222e-06],\n",
       "       [ 5.30996222e-06, -1.76386958e-06, -1.76386958e-06,\n",
       "         9.42761130e-07,  1.16055455e-07,  1.16055455e-07],\n",
       "       [-1.76386958e-06,  5.30996222e-06, -1.76386958e-06,\n",
       "         1.16055455e-07,  9.42761130e-07,  1.16055455e-07],\n",
       "       [-1.76386958e-06, -1.76386958e-06,  5.30996222e-06,\n",
       "         1.16055455e-07,  1.16055455e-07,  9.42761130e-07]])"
      ]
     },
     "metadata": {},
     "execution_count": 46
    }
   ],
   "source": [
    "covCalc = predCov  - result\n",
    "\n",
    "covCalc - cov"
   ]
  },
  {
   "cell_type": "code",
   "execution_count": 62,
   "metadata": {},
   "outputs": [
    {
     "output_type": "stream",
     "name": "stdout",
     "text": [
      "[[ 0.03702  0.       0.       0.       0.       0.     ]\n [ 0.      -0.00001  0.       0.       0.       0.     ]\n [ 0.       0.       0.00096  0.       0.       0.     ]\n [ 0.       0.       0.       0.001    0.       0.     ]\n [ 0.       0.       0.       0.      -0.00001  0.     ]\n [ 0.       0.       0.       0.       0.       0.001  ]]\n"
     ]
    }
   ],
   "source": [
    "eigVals, eigVecs = np.linalg.eig(cov)\n",
    "\n",
    "eigVals = np.diag(eigVals)\n",
    "\n",
    "np.set_printoptions(precision=5)\n",
    "np.set_printoptions(suppress=True)\n",
    "print(eigVals)"
   ]
  },
  {
   "cell_type": "code",
   "execution_count": 56,
   "metadata": {},
   "outputs": [
    {
     "output_type": "execute_result",
     "data": {
      "text/plain": [
       "array([[0.03701514, 0.        , 0.        , 0.        , 0.        ,\n",
       "        0.        ],\n",
       "       [0.        , 0.        , 0.        , 0.        , 0.        ,\n",
       "        0.        ],\n",
       "       [0.        , 0.        , 0.00095583, 0.        , 0.        ,\n",
       "        0.        ],\n",
       "       [0.        , 0.        , 0.        , 0.00100001, 0.        ,\n",
       "        0.        ],\n",
       "       [0.        , 0.        , 0.        , 0.        , 0.        ,\n",
       "        0.        ],\n",
       "       [0.        , 0.        , 0.        , 0.        , 0.        ,\n",
       "        0.00100001]])"
      ]
     },
     "metadata": {},
     "execution_count": 56
    }
   ],
   "source": [
    "for i in range(eigVals.shape[0]):\n",
    "    if(eigVals[i][i] < 0):\n",
    "        eigVals[i][i] = 0\n",
    "\n",
    "eigVals@eigVecs@eigVals.T"
   ]
  },
  {
   "cell_type": "code",
   "execution_count": null,
   "metadata": {},
   "outputs": [],
   "source": []
  }
 ]
}